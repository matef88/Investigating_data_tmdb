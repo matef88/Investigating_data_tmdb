{
 "cells": [
  {
   "cell_type": "markdown",
   "metadata": {},
   "source": [
    "# Project: TMDb movie data"
   ]
  },
  {
   "cell_type": "markdown",
   "metadata": {},
   "source": [
    "# Steps we followed"
   ]
  },
  {
   "cell_type": "markdown",
   "metadata": {},
   "source": [
    "## 1- imported the lib may will be used in the project\n",
    "<img alt=\"the used lib is incluede in the requrments.txt file\" src=\"img.png\" title=\"Lib Importing\"/>\n",
    "\n",
    "#### the add tmdbsimple lib it will be to get the missing data from some of the items\n",
    "#### the used Lib link \"https://developers.themoviedb.org/3/getting-started/introduction\"\n"
   ]
  },
  {
   "cell_type": "markdown",
   "metadata": {},
   "source": [
    "## Data Wrangling\n",
    "#### Scan the data and check if there is any data is missing cross checking all the data which are going to drill it down\n",
    "![](img_1.png)\n",
    "### while looking into df.info to cross checking the whole data we found the below points\n",
    "![](img_2.png)\n",
    "### there is some missing data will looking soon how we are going to cover it, any movie should have value in the budget so once the min is 0 thats said there is some movies without budget its not showing as its missing in the info due to all cells is mentioned as intg and the zero one of these integers so the data looks like its fine but actuly we can see there is 50% of the mobies with zero value for the budget will see below how we can fix this issue\n",
    "![](img_3.png)\n",
    "### some of the colimns it will not help us in the data investigations so we will drop it in this part\n",
    "![](img_4.png)\n",
    "### there is more that 5000 row with budget not sutable for the movile lets cross check it\n",
    "![](img_5.png)\n",
    "\n",
    "### GET THE WORKING LOOP TO COLLECT DATA FROM API TO THE NEW LISTS\n",
    "![](img_6.png)\n",
    "\n",
    "### after getting the valued updated thru API, i check the data distribution for the budget and revenue and for any missing or values less than 2000 as budget and 3000 as revenue i assume it and add the random values thru numpy as shown below\n",
    "#### same method i make it with the revn. and budg.\n",
    "![](img_7.png)\n"
   ]
  },
  {
   "cell_type": "markdown",
   "metadata": {},
   "source": [
    "# make new DF as final dataframe and creat new CSV File then start analysis the final file\n",
    "![](img_8.png)"
   ]
  },
  {
   "cell_type": "markdown",
   "metadata": {},
   "source": [
    "\n",
    "> **Tip**: the questions which we are going to look about it.\n",
    "Which Quarter in the year have the most released movies ?\n",
    "What’s the trend for cinema production over the years, top years of movies released?\n",
    "Which year released the highest count of movies?\n",
    "The Highest released movies in comparing with months?\n",
    "Whose is the top Directors released movies?\n",
    "Whose is the top Actos released movies?\n",
    "Top Movies, in comparing with the total revenue\n",
    "Top Movies, in comparing with the total budget\n",
    "Top Plays Production Companies in the industry\n",
    "Relation Between Popularity and Revenue\n",
    "Relation Between Popularity and RunTime"
   ]
  },
  {
   "cell_type": "markdown",
   "metadata": {},
   "source": [
    "## Conclusions\n",
    "> To get the best result for your next movie, Genre is drama one is the most gene released in the market, the competition  will be very high, the best releasing months Sep, Oct and Dec, Avatar in the most movie got revenue, and midnight in Paris for woody allien his best movies got high revenue, Woody have a very good repetition he can secure the success to your movie, but be carefully his movies very deep and sometimes didn’t match your needs.\n",
    "The best running time for your movie to be between 100 to 150 not more, to avoided any losing in the popularity\n"
   ]
  },
  {
   "cell_type": "code",
   "execution_count": null,
   "metadata": {},
   "outputs": [],
   "source": []
  }
 ],
 "metadata": {
  "kernelspec": {
   "display_name": "Python 3 (ipykernel)",
   "language": "python",
   "name": "python3"
  },
  "language_info": {
   "codemirror_mode": {
    "name": "ipython",
    "version": 3
   },
   "file_extension": ".py",
   "mimetype": "text/x-python",
   "name": "python",
   "nbconvert_exporter": "python",
   "pygments_lexer": "ipython3",
   "version": "3.10.7"
  }
 },
 "nbformat": 4,
 "nbformat_minor": 1
}
